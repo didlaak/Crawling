{
 "cells": [
  {
   "cell_type": "markdown",
   "id": "ce4ac49c",
   "metadata": {},
   "source": [
    "### 네이버 이미지 검색을 통한 이미지 수집\n",
    " 1. 이미지 저장할 폴더 정리(os라이브러리)\n",
    " 2. 이미지 url활용 수집후 이미지 파일로 저장해보기(urllib 라이브러리 urlretrieve)\n",
    " 3. 한 페이지 내의 고양이(동물) 이미지 수집하기\n",
    " 4. 스크롤 다운하여 더 많은 이미지 파일 출력해서 저장하기\n",
    " "
   ]
  },
  {
   "cell_type": "code",
   "execution_count": 1,
   "id": "103faace",
   "metadata": {
    "ExecuteTime": {
     "end_time": "2022-12-20T03:32:12.303801Z",
     "start_time": "2022-12-20T03:32:12.167083Z"
    }
   },
   "outputs": [],
   "source": [
    "from selenium import webdriver as wb\n",
    "from selenium.webdriver.common.by import By\n",
    "from selenium.webdriver.common.keys import Keys\n",
    "import time\n",
    "\n",
    "# 파일시스템을 다룰 떄 사용하는 라이브러리\n",
    "# 파일or 폴더 생성, 삭제, 이동, 파일이나 폴더의 존재여부 판단 등등...\n",
    "import os\n",
    "\n",
    "# 이미지경로를 기반으로 서버에 요청해서 이미지파일을 저장할 수 있게 하는 라이브러리\n",
    "from urllib.request import urlretrieve"
   ]
  },
  {
   "cell_type": "code",
   "execution_count": 2,
   "id": "272d6a25",
   "metadata": {
    "ExecuteTime": {
     "end_time": "2022-12-20T03:32:12.360399Z",
     "start_time": "2022-12-20T03:32:12.305743Z"
    }
   },
   "outputs": [
    {
     "data": {
      "text/plain": [
       "('./판다.jpg', <http.client.HTTPMessage at 0x25a22046520>)"
      ]
     },
     "execution_count": 2,
     "metadata": {},
     "output_type": "execute_result"
    }
   ],
   "source": [
    "url = 'https://search.pstatic.net/common/?src=http%3A%2F%2Fblogfiles.naver.net%2FMjAyMjExMTdfMjc2%2FMDAxNjY4Njk2NDUxNzcx.XMjieW2FRZjr0WR-FrtMOhN0ZTTNNaJCR51gg-qGz38g.tvfOBucMIPCd21wlS6qk8KY0F9hZPxUTOdNA51y_QOYg.JPEG.qqqq9628%2F1668696449745.jpg&type=a340'\n",
    "# urlretrieve(요청할 이미지 경로, 이미지 파일을 저장할 경로 )\n",
    "urlretrieve(url,'./판다.jpg')"
   ]
  },
  {
   "cell_type": "code",
   "execution_count": 3,
   "id": "27ab5561",
   "metadata": {
    "ExecuteTime": {
     "end_time": "2022-12-20T03:32:12.367201Z",
     "start_time": "2022-12-20T03:32:12.362325Z"
    }
   },
   "outputs": [
    {
     "data": {
      "text/plain": [
       "True"
      ]
     },
     "execution_count": 3,
     "metadata": {},
     "output_type": "execute_result"
    }
   ],
   "source": [
    "# 폴더 존재여부 판단하기\n",
    "# 폴더가 있다면 : True\n",
    "# 없다면 : False\n",
    "os.path.isdir('./판다')"
   ]
  },
  {
   "cell_type": "code",
   "execution_count": 5,
   "id": "5248fba8",
   "metadata": {
    "ExecuteTime": {
     "end_time": "2022-12-20T03:32:27.620067Z",
     "start_time": "2022-12-20T03:32:27.616163Z"
    }
   },
   "outputs": [],
   "source": [
    "# 폴더 생성하기\n",
    "os.mkdir('./판다')"
   ]
  },
  {
   "cell_type": "code",
   "execution_count": 6,
   "id": "90a1b107",
   "metadata": {
    "ExecuteTime": {
     "end_time": "2022-12-20T03:32:28.716853Z",
     "start_time": "2022-12-20T03:32:28.710998Z"
    }
   },
   "outputs": [
    {
     "data": {
      "text/plain": [
       "True"
      ]
     },
     "execution_count": 6,
     "metadata": {},
     "output_type": "execute_result"
    }
   ],
   "source": [
    "os.path.isdir('./판다')"
   ]
  },
  {
   "cell_type": "code",
   "execution_count": 7,
   "id": "333468f6",
   "metadata": {
    "ExecuteTime": {
     "end_time": "2022-12-20T03:32:36.741413Z",
     "start_time": "2022-12-20T03:32:36.735558Z"
    }
   },
   "outputs": [
    {
     "name": "stdout",
     "output_type": "stream",
     "text": [
      "현재 폴더는 있습니다.\n"
     ]
    }
   ],
   "source": [
    "# 조건\n",
    "# 해당 폴더가 있으면 폴더 생성 x\n",
    "# 해당 폴더가 없으면 폴더 생성\n",
    "if os.path.isdir('./판다') == True :\n",
    "    print('현재 폴더는 있습니다.')\n",
    "else : \n",
    "    os.mkdir('./판다')"
   ]
  },
  {
   "cell_type": "code",
   "execution_count": 8,
   "id": "41d3aec5",
   "metadata": {
    "ExecuteTime": {
     "end_time": "2022-12-20T03:32:37.823261Z",
     "start_time": "2022-12-20T03:32:37.816430Z"
    }
   },
   "outputs": [],
   "source": [
    "# 폴더 생성하는 함수 만들기\n",
    "def creat_folder(name):\n",
    "    if os.path.isdir(f'./{name}') == True :\n",
    "        print('현재 폴더는 있습니다.')\n",
    "    else : \n",
    "        os.mkdir(f'./{name}')\n",
    "        print(f'{name} 폴더가 생성되었습니다')"
   ]
  },
  {
   "cell_type": "code",
   "execution_count": 9,
   "id": "dc65c9c7",
   "metadata": {
    "ExecuteTime": {
     "end_time": "2022-12-20T03:32:38.740334Z",
     "start_time": "2022-12-20T03:32:38.735455Z"
    }
   },
   "outputs": [
    {
     "name": "stdout",
     "output_type": "stream",
     "text": [
      "강아지 폴더가 생성되었습니다\n"
     ]
    }
   ],
   "source": [
    "# 함수 호출\n",
    "creat_folder('강아지')"
   ]
  },
  {
   "cell_type": "markdown",
   "id": "fd470109",
   "metadata": {},
   "source": [
    "### 이미지 url활용 수집 후 이미지 파일로 저장하기"
   ]
  },
  {
   "cell_type": "code",
   "execution_count": 24,
   "id": "943637e2",
   "metadata": {
    "ExecuteTime": {
     "end_time": "2022-12-20T03:43:50.955188Z",
     "start_time": "2022-12-20T03:43:49.631600Z"
    }
   },
   "outputs": [],
   "source": [
    "url = 'https://search.naver.com/search.naver?sm=tab_hty.top&where=image&query=%ED%8C%90%EB%8B%A4&oquery=%EA%B3%A0%EC%96%91%EC%9D%B4+%EC%A2%85%EB%A5%98+%EC%82%AC%EC%A7%84&tqi=hIZlCsprvxsssBR4PRdssssst0G-035345&nso=so%3Ar%2Ca%3Aall%2Cp%3AallNzcx.XMjieW2FRZjr0WR-FrtMOhN0ZTTNNaJCR51gg-qGz38g.tvfOBucMIPCd21wlS6qk8KY0F9hZPxUTOdNA51y_QOYg.JPEG.qqqq9628%2F1668696449745.jpg&type=a340'\n",
    "# 드라이버 html 요청\n",
    "driver = wb.Chrome()\n",
    "driver.get(url)"
   ]
  },
  {
   "cell_type": "code",
   "execution_count": 16,
   "id": "d14c46f1",
   "metadata": {
    "ExecuteTime": {
     "end_time": "2022-12-20T03:34:52.389519Z",
     "start_time": "2022-12-20T03:34:50.305043Z"
    }
   },
   "outputs": [
    {
     "data": {
      "text/plain": [
       "('./판다/판다1.jpg', <http.client.HTTPMessage at 0x25a2212ceb0>)"
      ]
     },
     "execution_count": 16,
     "metadata": {},
     "output_type": "execute_result"
    }
   ],
   "source": [
    "# 첫번째 이미지 태그 접근하기\n",
    "img01 = driver.find_element(By.CSS_SELECTOR, value = '._image._listImage')\n",
    "img01_url = img01.get_attribute('src')\n",
    "\n",
    "# 저장하기\n",
    "urlretrieve(img01_url, './판다/판다1.jpg')"
   ]
  },
  {
   "cell_type": "markdown",
   "id": "4175fa04",
   "metadata": {},
   "source": [
    "### 스크롤 다운하여 더 많은 이미지 파일 저장하기"
   ]
  },
  {
   "cell_type": "code",
   "execution_count": 30,
   "id": "08384cc0",
   "metadata": {
    "ExecuteTime": {
     "end_time": "2022-12-20T03:52:41.950725Z",
     "start_time": "2022-12-20T03:52:24.694922Z"
    }
   },
   "outputs": [
    {
     "name": "stdout",
     "output_type": "stream",
     "text": [
      "336\n"
     ]
    }
   ],
   "source": [
    "url = 'https://search.naver.com/search.naver?sm=tab_hty.top&where=image&query=%ED%8C%90%EB%8B%A4&oquery=%EA%B3%A0%EC%96%91%EC%9D%B4+%EC%A2%85%EB%A5%98+%EC%82%AC%EC%A7%84&tqi=hIZlCsprvxsssBR4PRdssssst0G-035345&nso=so%3Ar%2Ca%3Aall%2Cp%3AallNzcx.XMjieW2FRZjr0WR-FrtMOhN0ZTTNNaJCR51gg-qGz38g.tvfOBucMIPCd21wlS6qk8KY0F9hZPxUTOdNA51y_QOYg.JPEG.qqqq9628%2F1668696449745.jpg&type=a340'\n",
    "# 드라이버 html 요청\n",
    "driver = wb.Chrome()\n",
    "driver.get(url)\n",
    "\n",
    "# 로딩시간이 필요함\n",
    "time.sleep(1.5)\n",
    "\n",
    "# 스크롤 내리기 -> 이미지가 다 보이게 하는 것\n",
    "for i in range(6):\n",
    "    driver.find_element(By.TAG_NAME, value = 'body').send_keys(Keys.END)\n",
    "    time.sleep(2)\n",
    "\n",
    "# 이미지 url 저장하기\n",
    "imgs = driver.find_elements(By.CSS_SELECTOR, '._image._listImage')\n",
    "print(len(imgs))\n"
   ]
  },
  {
   "cell_type": "code",
   "execution_count": 34,
   "id": "20549ad8",
   "metadata": {
    "ExecuteTime": {
     "end_time": "2022-12-20T03:55:32.534862Z",
     "start_time": "2022-12-20T03:55:21.493874Z"
    }
   },
   "outputs": [],
   "source": [
    "src_lst = [] #올바른 주소 저장하는 리스트\n",
    "for i in range(len(imgs)):\n",
    "    src = imgs[i].get_attribute('src')\n",
    "    if src[:4] != 'data' : # 올바른 주소\n",
    "        src_lst.append(src)\n",
    "\n",
    "# 폴더에 이미지 파일 저장하기 src_lst개수만큼 반복하며 저장\n",
    "for i in range(len(src_lst)):\n",
    "    urlretrieve(src_lst[i], f'./판다/{i+1}.jpg')\n"
   ]
  },
  {
   "cell_type": "code",
   "execution_count": 35,
   "id": "70e08337",
   "metadata": {
    "ExecuteTime": {
     "end_time": "2022-12-20T03:55:32.542670Z",
     "start_time": "2022-12-20T03:55:32.536815Z"
    }
   },
   "outputs": [
    {
     "data": {
      "text/plain": [
       "197"
      ]
     },
     "execution_count": 35,
     "metadata": {},
     "output_type": "execute_result"
    }
   ],
   "source": [
    "len(src_lst)"
   ]
  },
  {
   "cell_type": "code",
   "execution_count": null,
   "id": "c019e12f",
   "metadata": {},
   "outputs": [],
   "source": []
  }
 ],
 "metadata": {
  "kernelspec": {
   "display_name": "Python 3 (ipykernel)",
   "language": "python",
   "name": "python3"
  },
  "language_info": {
   "codemirror_mode": {
    "name": "ipython",
    "version": 3
   },
   "file_extension": ".py",
   "mimetype": "text/x-python",
   "name": "python",
   "nbconvert_exporter": "python",
   "pygments_lexer": "ipython3",
   "version": "3.9.13"
  },
  "toc": {
   "base_numbering": 1,
   "nav_menu": {},
   "number_sections": true,
   "sideBar": true,
   "skip_h1_title": false,
   "title_cell": "Table of Contents",
   "title_sidebar": "Contents",
   "toc_cell": false,
   "toc_position": {},
   "toc_section_display": true,
   "toc_window_display": false
  }
 },
 "nbformat": 4,
 "nbformat_minor": 5
}
