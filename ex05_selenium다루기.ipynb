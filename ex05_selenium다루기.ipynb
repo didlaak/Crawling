{
 "cells": [
  {
   "cell_type": "markdown",
   "id": "bc235df7",
   "metadata": {},
   "source": [
    "###  requests.BeautifulSoup 만 사용했을때의 한계\n",
    " - \"자바스크립트로 동적으로 생성된 정보는 가져올 수 없다는 것\""
   ]
  },
  {
   "cell_type": "markdown",
   "id": "a86c4495",
   "metadata": {},
   "source": [
    "### Selenium\n",
    " : 동적인 페이지를 제어하고 내용을 가져오기 위한 라이브러리\n",
    " : 웹 자동화 테스트 도구\n",
    " : 브라우저 제어 - 키보드입력, 클릭, 스크롤, 이전 페이지 이동 등등\n",
    " \n",
    "#### 셀레니움의 필요성\n",
    " - 1. 자바스크립트가 동적으로 만든 데이터를 크롤링 하기\n",
    " - 2. 사이트의 다양한 html요소에 클릭, 키보드 입력 등 이벤트 주기, 데이터도 추출할 수 있다\n",
    " \n",
    "#### 사용하기 위한 환경 구축\n",
    " - 1. 셀레니움 라이브러리 설치\n",
    " - 2. webdriver 파일 설치 -> 현재 크롤링 폴더에 저장\n",
    " - 웹 드라이버를 설치할떄 , 크롬 버전과 동일해야함\n",
    " - 버전확인방법 : 크롬 브라우저 설정 > 크롬 정보 메뉴 > 버전확인"
   ]
  },
  {
   "cell_type": "code",
   "execution_count": 1,
   "id": "b7570369",
   "metadata": {
    "ExecuteTime": {
     "end_time": "2022-12-19T02:43:47.934042Z",
     "start_time": "2022-12-19T02:43:44.702711Z"
    }
   },
   "outputs": [
    {
     "name": "stdout",
     "output_type": "stream",
     "text": [
      "Requirement already satisfied: selenium in c:\\users\\smhrd\\anaconda3\\lib\\site-packages (4.7.2)\n",
      "Requirement already satisfied: trio~=0.17 in c:\\users\\smhrd\\anaconda3\\lib\\site-packages (from selenium) (0.22.0)\n",
      "Requirement already satisfied: urllib3[socks]~=1.26 in c:\\users\\smhrd\\anaconda3\\lib\\site-packages (from selenium) (1.26.11)\n",
      "Requirement already satisfied: trio-websocket~=0.9 in c:\\users\\smhrd\\anaconda3\\lib\\site-packages (from selenium) (0.9.2)\n",
      "Requirement already satisfied: certifi>=2021.10.8 in c:\\users\\smhrd\\anaconda3\\lib\\site-packages (from selenium) (2022.9.14)\n",
      "Requirement already satisfied: outcome in c:\\users\\smhrd\\anaconda3\\lib\\site-packages (from trio~=0.17->selenium) (1.2.0)\n",
      "Requirement already satisfied: exceptiongroup>=1.0.0rc9 in c:\\users\\smhrd\\anaconda3\\lib\\site-packages (from trio~=0.17->selenium) (1.0.4)\n",
      "Requirement already satisfied: cffi>=1.14 in c:\\users\\smhrd\\anaconda3\\lib\\site-packages (from trio~=0.17->selenium) (1.15.1)\n",
      "Requirement already satisfied: idna in c:\\users\\smhrd\\anaconda3\\lib\\site-packages (from trio~=0.17->selenium) (3.3)\n",
      "Requirement already satisfied: async-generator>=1.9 in c:\\users\\smhrd\\anaconda3\\lib\\site-packages (from trio~=0.17->selenium) (1.10)\n",
      "Requirement already satisfied: sniffio in c:\\users\\smhrd\\anaconda3\\lib\\site-packages (from trio~=0.17->selenium) (1.2.0)\n",
      "Requirement already satisfied: attrs>=19.2.0 in c:\\users\\smhrd\\anaconda3\\lib\\site-packages (from trio~=0.17->selenium) (21.4.0)\n",
      "Requirement already satisfied: sortedcontainers in c:\\users\\smhrd\\anaconda3\\lib\\site-packages (from trio~=0.17->selenium) (2.4.0)\n",
      "Requirement already satisfied: wsproto>=0.14 in c:\\users\\smhrd\\anaconda3\\lib\\site-packages (from trio-websocket~=0.9->selenium) (1.2.0)\n",
      "Requirement already satisfied: PySocks!=1.5.7,<2.0,>=1.5.6 in c:\\users\\smhrd\\anaconda3\\lib\\site-packages (from urllib3[socks]~=1.26->selenium) (1.7.1)\n",
      "Requirement already satisfied: pycparser in c:\\users\\smhrd\\anaconda3\\lib\\site-packages (from cffi>=1.14->trio~=0.17->selenium) (2.21)\n",
      "Requirement already satisfied: h11<1,>=0.9.0 in c:\\users\\smhrd\\anaconda3\\lib\\site-packages (from wsproto>=0.14->trio-websocket~=0.9->selenium) (0.14.0)\n"
     ]
    }
   ],
   "source": [
    "!pip install selenium"
   ]
  },
  {
   "cell_type": "markdown",
   "id": "7c8f6359",
   "metadata": {},
   "source": [
    "#### selenium 사용하기"
   ]
  },
  {
   "cell_type": "code",
   "execution_count": 2,
   "id": "3f24ae11",
   "metadata": {
    "ExecuteTime": {
     "end_time": "2022-12-19T02:43:48.016564Z",
     "start_time": "2022-12-19T02:43:47.935018Z"
    }
   },
   "outputs": [],
   "source": [
    "# 도구 임폴트\n",
    "# chromedriver.exe 를 제어 및 실행시켜주는 라이브러리\n",
    "from selenium import webdriver as wb\n",
    "\n",
    "# 키보드의 값(enter, space, ctrl, a키보드값)을 제어할 수 있는 라이브러리\n",
    "from selenium.webdriver.common.keys import Keys\n",
    "\n",
    "# html 요소를 접근하는 방식을 제공하는 라이브러리\n",
    "# css선택자. 태그이름접근, 클래스접근, 아이디접근,,,,\n",
    "from selenium.webdriver.common.by import By"
   ]
  },
  {
   "cell_type": "markdown",
   "id": "fe8e99b9",
   "metadata": {},
   "source": [
    "#### 페이지 요청"
   ]
  },
  {
   "cell_type": "code",
   "execution_count": 3,
   "id": "e2a1fb73",
   "metadata": {
    "ExecuteTime": {
     "end_time": "2022-12-19T02:43:50.227756Z",
     "start_time": "2022-12-19T02:43:48.017540Z"
    }
   },
   "outputs": [],
   "source": [
    "# wb.Chrome(드라이버(Chromedriver.exe) 경로 설정)\n",
    "# drvier = wb.Chrome('./Chromedriver.exe') 같은 경로에 있으면 생략가능\n",
    "url = \"https://www.naver.com/\"\n",
    "# 크롬 브라우저 연결 설정\n",
    "# 제어할 수 있는 브라우저 실행, 브라우저를 제어하고 접근하기 위해서 driver변수에 저장해서 사용\n",
    "driver = wb.Chrome()\n",
    "\n",
    "# url주소에 해당하는 웹 페이지를 요청하는 함수\n",
    "driver.get(url)"
   ]
  },
  {
   "cell_type": "markdown",
   "id": "73a3e350",
   "metadata": {},
   "source": [
    "#### 특정 html요소 접근(1개)\n",
    "- find_element(어떤 선택자 종류, value = '벨류값')"
   ]
  },
  {
   "cell_type": "code",
   "execution_count": 4,
   "id": "e73ed371",
   "metadata": {
    "ExecuteTime": {
     "end_time": "2022-12-19T02:43:50.320472Z",
     "start_time": "2022-12-19T02:43:50.232637Z"
    }
   },
   "outputs": [
    {
     "data": {
      "text/plain": [
       "<selenium.webdriver.remote.webelement.WebElement (session=\"1b961983205a8b639063d5aba0fb3a22\", element=\"303e05bd-560f-4598-ba6a-f29b9682f6dd\")>"
      ]
     },
     "execution_count": 4,
     "metadata": {},
     "output_type": "execute_result"
    }
   ],
   "source": [
    "# driver.find_element() : 웹 문서에서 특정 html요소 1개에 접근하는 함수\n",
    "# 검색창(imput) 요소 접근하기\n",
    "\n",
    "driver.find_element(by = 'id', value = 'query')"
   ]
  },
  {
   "cell_type": "code",
   "execution_count": 5,
   "id": "973a3e76",
   "metadata": {
    "ExecuteTime": {
     "end_time": "2022-12-19T02:43:52.333559Z",
     "start_time": "2022-12-19T02:43:50.322425Z"
    }
   },
   "outputs": [],
   "source": [
    "# 검색방법 1 \n",
    "# by, value 활용한 html요소 접근\n",
    "# 검색창에 키보드입력값 보내기\n",
    "# enter기능\n",
    "\n",
    "driver.find_element(by = 'id', value = 'query').send_keys('치즈돈까스\\n')"
   ]
  },
  {
   "cell_type": "code",
   "execution_count": 1,
   "id": "bb45b515",
   "metadata": {
    "ExecuteTime": {
     "end_time": "2022-12-20T01:41:09.450310Z",
     "start_time": "2022-12-20T01:41:09.280495Z"
    }
   },
   "outputs": [
    {
     "ename": "NameError",
     "evalue": "name 'driver' is not defined",
     "output_type": "error",
     "traceback": [
      "\u001b[1;31m---------------------------------------------------------------------------\u001b[0m",
      "\u001b[1;31mNameError\u001b[0m                                 Traceback (most recent call last)",
      "\u001b[1;32m~\\AppData\\Local\\Temp\\ipykernel_5252\\1472976793.py\u001b[0m in \u001b[0;36m<module>\u001b[1;34m\u001b[0m\n\u001b[0;32m      1\u001b[0m \u001b[1;31m# 검색방법 2\u001b[0m\u001b[1;33m\u001b[0m\u001b[1;33m\u001b[0m\u001b[0m\n\u001b[0;32m      2\u001b[0m \u001b[1;31m# By.ID를 활용한 html요소 접근\u001b[0m\u001b[1;33m\u001b[0m\u001b[1;33m\u001b[0m\u001b[0m\n\u001b[1;32m----> 3\u001b[1;33m \u001b[0mdriver\u001b[0m\u001b[1;33m.\u001b[0m\u001b[0mfind_element\u001b[0m\u001b[1;33m(\u001b[0m\u001b[0mBy\u001b[0m\u001b[1;33m.\u001b[0m\u001b[0mID\u001b[0m\u001b[1;33m,\u001b[0m \u001b[0mvalue\u001b[0m \u001b[1;33m=\u001b[0m \u001b[1;34m'query'\u001b[0m\u001b[1;33m)\u001b[0m\u001b[1;33m.\u001b[0m\u001b[0msend_keys\u001b[0m\u001b[1;33m(\u001b[0m\u001b[1;34m'치즈돈까스\\n'\u001b[0m\u001b[1;33m)\u001b[0m\u001b[1;33m\u001b[0m\u001b[1;33m\u001b[0m\u001b[0m\n\u001b[0m",
      "\u001b[1;31mNameError\u001b[0m: name 'driver' is not defined"
     ]
    }
   ],
   "source": [
    "# 검색방법 2\n",
    "# By.ID를 활용한 html요소 접근\n",
    "driver.find_element(By.ID, value = 'query').send_keys('치즈돈까스\\n')"
   ]
  },
  {
   "cell_type": "code",
   "execution_count": null,
   "id": "20e94f8f",
   "metadata": {
    "ExecuteTime": {
     "end_time": "2022-12-19T02:43:52.543396Z",
     "start_time": "2022-12-19T02:43:52.543396Z"
    }
   },
   "outputs": [],
   "source": [
    "# 검색방법 3 \n",
    "# By.CSS_SELECTOR --> id 값에 적븐\n",
    "driver.find_element(By.CSS_SELECTOR, value = \"#query\").send_keys('생선돈까스\\n')"
   ]
  },
  {
   "cell_type": "code",
   "execution_count": null,
   "id": "dcf53ace",
   "metadata": {
    "ExecuteTime": {
     "end_time": "2022-12-19T02:43:52.544372Z",
     "start_time": "2022-12-19T02:43:52.544372Z"
    }
   },
   "outputs": [],
   "source": [
    "# 검색방법 4\n",
    "driver = wb.Chrome()\n",
    "driver.get(url)\n",
    "driver.find_element(By.CSS_SELECTOR, value = \"#query\").send_keys('치즈돈까스')\n",
    "#검색버튼 요소 접근하기\n",
    "driver.find_element(By.CSS_SELECTOR, value = \"#search_btn\").click()"
   ]
  },
  {
   "cell_type": "markdown",
   "id": "343b4138",
   "metadata": {},
   "source": [
    "#### 해당 태그의 여러 요소를 접근하는 함수(여러개)\n",
    "- find_elements()"
   ]
  },
  {
   "cell_type": "code",
   "execution_count": null,
   "id": "1bbaac79",
   "metadata": {
    "ExecuteTime": {
     "end_time": "2022-12-19T02:43:52.545348Z",
     "start_time": "2022-12-19T02:43:52.545348Z"
    }
   },
   "outputs": [],
   "source": [
    "# 치즈돈까스 상품명에 접근해보기\n",
    "products = driver.find_elements(By.CSS_SELECTOR, value= \"a.title\")\n",
    "products[2].text \n",
    "# webelement.text : html객체 내의 텍스트 내용을 접근 -> str"
   ]
  },
  {
   "cell_type": "code",
   "execution_count": null,
   "id": "ac59af1f",
   "metadata": {
    "ExecuteTime": {
     "end_time": "2022-12-19T02:43:52.547315Z",
     "start_time": "2022-12-19T02:43:52.547315Z"
    }
   },
   "outputs": [],
   "source": [
    "for i in products:\n",
    "    print(i.text) # 요소 1개.text"
   ]
  },
  {
   "cell_type": "code",
   "execution_count": null,
   "id": "8b2f413e",
   "metadata": {
    "ExecuteTime": {
     "end_time": "2022-12-19T02:43:52.549267Z",
     "start_time": "2022-12-19T02:43:52.549267Z"
    }
   },
   "outputs": [],
   "source": [
    "# 페이지 스크롤 내리기 ! --> keys활용\n",
    "# 스크롤 내리는 방법 : \n",
    "# ARROW_DOWN(조금씩 내리기), \n",
    "# PAGE_DOWN(보여지는 페이지에서 다음페이지로 다운)\n",
    "# END(제일 하단까지 스크롤 내리기)\n",
    "# 스크롤 적용할 대상 : body\n",
    "# 스크롤 적용하는 방법 : send_keys(keys.스크롤내리는방법)\n",
    "driver.find_element(By.TAG_NAME, value = 'body').send_keys(Keys.END)"
   ]
  },
  {
   "cell_type": "code",
   "execution_count": null,
   "id": "e31f267d",
   "metadata": {
    "ExecuteTime": {
     "end_time": "2022-12-19T02:43:52.552184Z",
     "start_time": "2022-12-19T02:43:52.552184Z"
    }
   },
   "outputs": [],
   "source": [
    "# 크롬 브라우저 창 끄기\n",
    "driver.close()"
   ]
  },
  {
   "cell_type": "code",
   "execution_count": null,
   "id": "4435f340",
   "metadata": {},
   "outputs": [],
   "source": []
  },
  {
   "cell_type": "code",
   "execution_count": null,
   "id": "504f1f8b",
   "metadata": {},
   "outputs": [],
   "source": []
  },
  {
   "cell_type": "code",
   "execution_count": null,
   "id": "fbb73958",
   "metadata": {},
   "outputs": [],
   "source": []
  },
  {
   "cell_type": "code",
   "execution_count": null,
   "id": "e48edeee",
   "metadata": {},
   "outputs": [],
   "source": []
  },
  {
   "cell_type": "code",
   "execution_count": null,
   "id": "3490c4d1",
   "metadata": {},
   "outputs": [],
   "source": []
  }
 ],
 "metadata": {
  "kernelspec": {
   "display_name": "Python 3 (ipykernel)",
   "language": "python",
   "name": "python3"
  },
  "language_info": {
   "codemirror_mode": {
    "name": "ipython",
    "version": 3
   },
   "file_extension": ".py",
   "mimetype": "text/x-python",
   "name": "python",
   "nbconvert_exporter": "python",
   "pygments_lexer": "ipython3",
   "version": "3.9.13"
  },
  "toc": {
   "base_numbering": 1,
   "nav_menu": {},
   "number_sections": true,
   "sideBar": true,
   "skip_h1_title": false,
   "title_cell": "Table of Contents",
   "title_sidebar": "Contents",
   "toc_cell": false,
   "toc_position": {},
   "toc_section_display": true,
   "toc_window_display": false
  }
 },
 "nbformat": 4,
 "nbformat_minor": 5
}
